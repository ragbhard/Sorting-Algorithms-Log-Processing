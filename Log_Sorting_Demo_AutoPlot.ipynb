{
 "cells": [
  {
   "cell_type": "markdown",
   "id": "420822a0",
   "metadata": {},
   "source": [
    "# 📊 Comparative Analysis of Sorting Algorithms for Large-Scale Log File Processing\n",
    "### 🔬 Benchmarking and Auto Visualization Notebook\n",
    "This notebook benchmarks all implemented sorting algorithms across multiple log patterns and generates visual reports.\n"
   ]
  },
  {
   "cell_type": "code",
   "execution_count": null,
   "id": "dcd31d95",
   "metadata": {},
   "outputs": [],
   "source": [
    "!pip install pandas matplotlib seaborn psutil"
   ]
  },
  {
   "cell_type": "code",
   "execution_count": null,
   "id": "50ac9b99",
   "metadata": {},
   "outputs": [],
   "source": [
    "import os\n",
    "import pandas as pd\n",
    "import matplotlib.pyplot as plt\n",
    "import seaborn as sns\n",
    "\n",
    "from src.log_generator.log_generator import LogGenerator\n",
    "from src.algorithms.quick_sort import quick_sort\n",
    "from src.algorithms.merge_sort import merge_sort\n",
    "from src.algorithms.heap_sort import heap_sort\n",
    "from src.algorithms.radix_sort import radix_sort\n",
    "from src.benchmarking.metrics_collector import MetricsCollector, OperationTracker\n",
    "from src.benchmarking.performance_dashboard import plot_all_metrics\n"
   ]
  },
  {
   "cell_type": "code",
   "execution_count": null,
   "id": "9ac9fa7a",
   "metadata": {},
   "outputs": [],
   "source": [
    "patterns = ['random', 'sorted', 'reverse', 'partial']\n",
    "algorithms = {\n",
    "    'Quick Sort': quick_sort,\n",
    "    'Merge Sort': merge_sort,\n",
    "    'Heap Sort': heap_sort,\n",
    "    'Radix Sort': radix_sort\n",
    "}\n",
    "entry_count = 10000\n",
    "repeats = 3\n",
    "results = []\n",
    "\n",
    "os.makedirs(\"logs\", exist_ok=True)\n",
    "os.makedirs(\"reports\", exist_ok=True)\n"
   ]
  },
  {
   "cell_type": "code",
   "execution_count": null,
   "id": "661b8dee",
   "metadata": {},
   "outputs": [],
   "source": [
    "for pattern in patterns:\n",
    "    print(f\"\\nPattern: {pattern.upper()}\")\n",
    "    log_file = f\"logs/{pattern}_demo.txt\"\n",
    "    LogGenerator().generate_log_file(log_file, entry_count, pattern)\n",
    "    with open(log_file, 'r') as f:\n",
    "        original_logs = f.readlines()\n",
    "\n",
    "    for name, algo in algorithms.items():\n",
    "        print(f\"  Testing: {name}\")\n",
    "        for run in range(repeats):\n",
    "            logs_copy = original_logs.copy()\n",
    "            tracker = OperationTracker()\n",
    "            metrics = MetricsCollector()\n",
    "            sorted_logs = metrics.measure(algo, logs_copy, tracker)\n",
    "            results.append({\n",
    "                'Algorithm': name,\n",
    "                'Pattern': pattern,\n",
    "                'Run': run + 1,\n",
    "                **metrics.results[-1]\n",
    "            })\n"
   ]
  },
  {
   "cell_type": "code",
   "execution_count": null,
   "id": "9899b615",
   "metadata": {},
   "outputs": [],
   "source": [
    "df = pd.DataFrame(results)\n",
    "df.to_csv(\"reports/demo_benchmark_results.csv\", index=False)\n",
    "df.head()"
   ]
  },
  {
   "cell_type": "code",
   "execution_count": null,
   "id": "b68627aa",
   "metadata": {},
   "outputs": [],
   "source": [
    "plot_all_metrics(\"reports/demo_benchmark_results.csv\")"
   ]
  }
 ],
 "metadata": {},
 "nbformat": 4,
 "nbformat_minor": 5
}
