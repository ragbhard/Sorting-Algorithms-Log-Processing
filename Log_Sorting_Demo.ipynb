
{
 "cells": [
  {
   "cell_type": "markdown",
   "metadata": {},
   "source": [
    "# 📊 Comparative Analysis of Sorting Algorithms for Large-Scale Log File Processing
",
    "### 👨‍💻 Author: Raghav Bhardwaj
",
    "### 🚀 Project Overview
",
    "- This project implements and optimizes four major sorting algorithms:
",
    "  - Quick Sort
",
    "  - Merge Sort
",
    "  - Heap Sort
",
    "  - Radix Sort
",
    "- The focus is on optimizing these algorithms for **large-scale log file processing**.
",
    "- The project includes log file generation, sorting, benchmarking, and performance visualization.
"
   ]
  },
  {
   "cell_type": "markdown",
   "metadata": {},
   "source": [
    "## ✅ Step 1: Setup - Installing Required Libraries"
   ]
  },
  {
   "cell_type": "code",
   "metadata": {},
   "source": [
    "!pip install matplotlib psutil"
   ],
   "execution_count": null,
   "outputs": []
  },
  {
   "cell_type": "markdown",
   "metadata": {},
   "source": [
    "## ✅ Step 2: Log File Generation
",
    "- We will use the custom log generator from the project.
",
    "- It can generate logs of any size with random timestamped entries."
   ]
  },
  {
   "cell_type": "code",
   "metadata": {},
   "source": [
    "from src.log_generator.log_generator import LogGenerator
",
    "generator = LogGenerator()
",
    "generator.generate_log_file("logs.txt", 10000)  # Generates a 10,000 entry log file
",
    "print("Log file generated: logs.txt")"
   ],
   "execution_count": null,
   "outputs": []
  },
  {
   "cell_type": "markdown",
   "metadata": {},
   "source": [
    "## ✅ Step 3: Running Sorting Algorithms
",
    "- We will apply four sorting algorithms (Quick, Merge, Heap, Radix) on the generated log file.
",
    "- The performance of each algorithm will be measured (Time, Memory)."
   ]
  },
  {
   "cell_type": "code",
   "metadata": {},
   "source": [
    "from src.algorithms.quick_sort import quick_sort
",
    "from src.algorithms.merge_sort import merge_sort
",
    "from src.algorithms.heap_sort import heap_sort
",
    "from src.algorithms.radix_sort import radix_sort
",
    "from src.benchmarking.metrics_collector import MetricsCollector
",
    "
",
    "with open("logs.txt") as f:
",
    "    logs = f.readlines()
",
    "
",
    "metrics = MetricsCollector()
",
    "
",
    "# Quick Sort
",
    "logs_copy = logs.copy()
",
    "metrics.measure(quick_sort)(logs_copy)
",
    "
",
    "# Merge Sort
",
    "logs_copy = logs.copy()
",
    "metrics.measure(merge_sort)(logs_copy)
",
    "
",
    "# Heap Sort
",
    "logs_copy = logs.copy()
",
    "metrics.measure(heap_sort)(logs_copy)
",
    "
",
    "# Radix Sort
",
    "logs_copy = [int(line.split()[0].replace("-", "").replace(":", "").replace(" ", "")) for line in logs]
",
    "metrics.measure(radix_sort)(logs_copy)
",
    "
",
    "metrics.results"
   ],
   "execution_count": null,
   "outputs": []
  },
  {
   "cell_type": "markdown",
   "metadata": {},
   "source": [
    "## ✅ Step 4: Visualizing Performance
",
    "- We will visualize the sorting performance using bar charts."
   ]
  },
  {
   "cell_type": "code",
   "metadata": {},
   "source": [
    "from src.benchmarking.performance_dashboard import plot_performance
",
    "plot_performance(metrics.results)"
   ],
   "execution_count": null,
   "outputs": []
  },
  {
   "cell_type": "markdown",
   "metadata": {},
   "source": [
    "## ✅ Step 5: Generating Large Log Files (1GB, 10GB)
",
    "- We can generate large-scale log files using the generator.
",
    "- This is achieved using stream-based log generation to avoid memory overload."
   ]
  },
  {
   "cell_type": "code",
   "metadata": {},
   "source": [
    "generator.generate_log_file("large_logs.txt", 1000000)  # Generates a 1 million entry log file (~1GB)
",
    "print("Large log file generated: large_logs.txt")"
   ],
   "execution_count": null,
   "outputs": []
  }
 ],
 "metadata": {
  "kernelspec": {
   "display_name": "Python 3",
   "language": "python",
   "name": "python3"
  },
  "language_info": {
   "codemirror_mode": {"name": "ipython", "version": 3},
   "file_extension": ".py",
   "mimetype": "text/x-python",
   "name": "python",
   "nbconvert_exporter": "python",
   "pygments_lexer": "ipython3",
   "version": "3.11"
  }
 },
 "nbformat": 4,
 "nbformat_minor": 5
}
